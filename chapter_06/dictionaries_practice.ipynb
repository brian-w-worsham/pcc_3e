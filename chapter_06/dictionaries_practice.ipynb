{
 "cells": [
  {
   "cell_type": "code",
   "execution_count": 1,
   "id": "a37e9e0c",
   "metadata": {},
   "outputs": [
    {
     "name": "stdout",
     "output_type": "stream",
     "text": [
      "Tatiana\n",
      "Worsham\n",
      "45\n",
      "Harker Heights\n"
     ]
    }
   ],
   "source": [
    "tatiana = {\n",
    "    'first_name': 'Tatiana',\n",
    "    'last_name': 'Worsham',\n",
    "    'age': 45,\n",
    "    'city': 'Harker Heights',\n",
    "}\n",
    "\n",
    "print(tatiana['first_name'])\n",
    "print(tatiana.get('last_name'))\n",
    "print(tatiana.get('age'))\n",
    "print(tatiana.get('city'))\n"
   ]
  },
  {
   "cell_type": "code",
   "execution_count": 2,
   "id": "25ff2d05",
   "metadata": {},
   "outputs": [
    {
     "name": "stdout",
     "output_type": "stream",
     "text": [
      "17\n",
      "4\n",
      "42\n",
      "12\n",
      "3\n"
     ]
    }
   ],
   "source": [
    "favorite_numbers = {\n",
    "    'eric': 17,\n",
    "    'ever': 4,\n",
    "    'willie': 42,\n",
    "    'zach': 12,\n",
    "    'paul': 3,    \n",
    "}\n",
    "\n",
    "print(favorite_numbers['eric'])\n",
    "print(favorite_numbers['ever'])\n",
    "print(favorite_numbers['willie'])\n",
    "print(favorite_numbers['zach'])\n",
    "print(favorite_numbers['paul'])"
   ]
  },
  {
   "cell_type": "code",
   "execution_count": 3,
   "id": "b776a112",
   "metadata": {},
   "outputs": [
    {
     "name": "stdout",
     "output_type": "stream",
     "text": [
      "\n",
      "String: A series of characters.\n",
      "\n",
      "Comment: A note in a program that the Python interpreter ignores.\n",
      "\n",
      "List: A collection of items in a particular order.\n",
      "\n",
      "Loop: Work through a collection of items, one at a time.\n",
      "\n",
      "Dictionary: A collection of key-value pairs.\n"
     ]
    }
   ],
   "source": [
    "# 6-3. Glossary: A Python dictionary can be used to model an actual dictionary. \n",
    "# However, to avoid confusion, let's call it a glossary.\n",
    "# - Think of five programming words you've learned about in the previous \n",
    "# chapters. Use these words as the keys in your glossary, and store their \n",
    "# meanings as values.\n",
    "programming_words = {\n",
    "    'string': 'A series of characters.',\n",
    "    'comment': 'A note in a program that the Python interpreter ignores.',\n",
    "    'list': 'A collection of items in a particular order.',\n",
    "    'loop': 'Work through a collection of items, one at a time.',\n",
    "    'dictionary': \"A collection of key-value pairs.\",\n",
    "}\n",
    "\n",
    "# - Print each word and its meaning as neatly formatted output. You might print\n",
    "# the word followed by a colon and then its meaning, or print the word on one\n",
    "# line and then print its meaning indented on a second line. Use the newline\n",
    "# character (\\n) to insert a blank line between each word/meaning pair in your\n",
    "# output.\n",
    "for word, meaning in programming_words.items():\n",
    "    print(f\"\\n{word.title()}: {meaning}\")\n"
   ]
  },
  {
   "cell_type": "code",
   "execution_count": 1,
   "id": "6380ae7b",
   "metadata": {},
   "outputs": [
    {
     "name": "stdout",
     "output_type": "stream",
     "text": [
      "The Nile runs through Egypt.\n",
      "The Mississippi runs through United States.\n",
      "The Fraser runs through Canada.\n",
      "Nile\n",
      "Mississippi\n",
      "Fraser\n",
      "Egypt\n",
      "United States\n",
      "Canada\n"
     ]
    }
   ],
   "source": [
    "# 6-5. Rivers: Make a dictionary containing three major rivers and the country \n",
    "# each river runs through. One key-value pair might be `'nile': 'egypt'`.\n",
    "rivers = {\n",
    "    'nile': 'egypt',\n",
    "    'mississippi': 'united states',\n",
    "    'fraser': 'canada',\n",
    "}\n",
    "\n",
    "# - Use a loop to print a sentence about each river, such as The Nile runs\n",
    "# through Egypt.\n",
    "for river, country in rivers.items():\n",
    "    print(f\"The {river.title()} runs through {country.title()}.\")\n",
    "# - Use a loop to print the name of each river included in the dictionary.\n",
    "for river in rivers.keys():\n",
    "    print(river.title())\n",
    "# - Use a loop to print the name of each country included in the dictionary.\n",
    "for country in rivers.values():\n",
    "    print(country.title())\n"
   ]
  },
  {
   "cell_type": "code",
   "execution_count": 2,
   "id": "a14af2bd",
   "metadata": {},
   "outputs": [
    {
     "name": "stdout",
     "output_type": "stream",
     "text": [
      "\n",
      "Jen's favorite languages are:\n",
      "\tPython\n",
      "\tRust\n",
      "\n",
      "Sarah's favorite languages are:\n",
      "\tC\n",
      "\n",
      "Edward's favorite languages are:\n",
      "\tRust\n",
      "\tGo\n",
      "\n",
      "Phil's favorite languages are:\n",
      "\tPython\n",
      "\tHaskell\n"
     ]
    }
   ],
   "source": [
    "favorite_languages = {\n",
    "      'jen': ['python', 'rust'],\n",
    "      'sarah': ['c'],\n",
    "      'edward': ['rust', 'go'],\n",
    "      'phil': ['python', 'haskell'],\n",
    "      }\n",
    "\n",
    "for name, languages in favorite_languages.items():\n",
    "    print(f\"\\n{name.title()}'s favorite languages are:\")\n",
    "    for language in languages:\n",
    "        print(f\"\\t{language.title()}\")"
   ]
  },
  {
   "cell_type": "code",
   "execution_count": 3,
   "id": "5a9b7e22",
   "metadata": {},
   "outputs": [
    {
     "name": "stdout",
     "output_type": "stream",
     "text": [
      "Eric, what's your favorite programming language?\n",
      "Willie, what's your favorite programming language?\n",
      "Zach, what's your favorite programming language?\n",
      "Cathy, what's your favorite programming language?\n",
      "Erin, what's your favorite programming language?\n",
      "Thank you for taking the poll, Sarah!\n",
      "Thank you for taking the poll, Jen!\n"
     ]
    }
   ],
   "source": [
    "# 6-6. Polling: Use the code in favorite_languages.py (page 96)\n",
    "# Make a list of people who should take the favorite languages poll. Include\n",
    "# some names that are already in the dictionary and some that are not.\n",
    "people_to_poll = ['eric', 'willie', 'zach', 'cathy', 'erin', 'sarah', 'jen']\n",
    "\n",
    "# Loop through the list of people who should take the poll. If they have already\n",
    "# taken the poll, print a message thanking them for responding. If they have not\n",
    "# yet taken the poll, print a message inviting them to take the poll.\n",
    "for person_name in people_to_poll:\n",
    "    if person_name in favorite_languages.keys():\n",
    "        print(f\"Thank you for taking the poll, {person_name.title()}!\")\n",
    "    else:\n",
    "        print(f\"{person_name.title()}, what's your favorite programming language?\")"
   ]
  },
  {
   "cell_type": "code",
   "execution_count": 1,
   "id": "41adb150",
   "metadata": {},
   "outputs": [
    {
     "name": "stdout",
     "output_type": "stream",
     "text": [
      "\n",
      "Tatiana Worsham\n",
      "  Age: 45\n",
      "  City: Harker Heights\n",
      "\n",
      "Eric Worsham\n",
      "  Age: 40\n",
      "  City: Killeen\n",
      "\n",
      "Sarah Foster\n",
      "  Age: 30\n",
      "  City: Jonesboro\n"
     ]
    }
   ],
   "source": [
    "# 6-7. People: Start with the program you created from Exercise 6-1 (page 98).\n",
    "# Make two new dictionaries representing different people, and store all three\n",
    "# dictionaries in a list called people. Loop through your list of people. As you\n",
    "# loop through the list, print everything you know about each person.\n",
    "\n",
    "tatiana = {\n",
    "    'first_name': 'Tatiana',\n",
    "    'last_name': 'Worsham',\n",
    "    'age': 45,\n",
    "    'city': 'Harker Heights',\n",
    "}\n",
    "\n",
    "eric = {\n",
    "    'first_name': 'Eric',\n",
    "    'last_name': 'Worsham',\n",
    "    'age': 40,\n",
    "    'city': 'Killeen',\n",
    "}\n",
    "\n",
    "sarah = {\n",
    "    'first_name': 'Sarah',\n",
    "    'last_name': 'Foster',\n",
    "    'age': 30,\n",
    "    'city': 'Jonesboro',\n",
    "}\n",
    "\n",
    "people = [tatiana, eric, sarah]\n",
    "\n",
    "for person in people:\n",
    "    print(f\"\\n{person['first_name'].title()} {person['last_name'].title()}\")\n",
    "    print(f\"  Age: {person['age']}\")\n",
    "    print(f\"  City: {person['city'].title()}\")\n",
    "    "
   ]
  },
  {
   "cell_type": "code",
   "execution_count": 5,
   "id": "bc12c77c",
   "metadata": {},
   "outputs": [
    {
     "name": "stdout",
     "output_type": "stream",
     "text": [
      "\n",
      "Fido\n",
      " Animal Type: dog\n",
      " Age: 2\n",
      " Breed: Poodle\n",
      "\n",
      "Jerome\n",
      " Animal Type: tortoise\n",
      " Age: 8\n",
      " Breed: Sulcata\n",
      "\n",
      "Molly\n",
      " Animal Type: bird\n",
      " Age: 11\n",
      " Breed: Cockatiel\n"
     ]
    }
   ],
   "source": [
    "# 6-8. Pets: Make several dictionaries, where each dictionary represents a\n",
    "# different pet. In each dictionary, include the kind of animal and the owner’s\n",
    "# name. Store these dictionaries in a list called pets. Next, loop through your\n",
    "# list and as you do, print everything you know about each pet.\n",
    "\n",
    "my_dog = {\n",
    "    'name': 'Fido',\n",
    "    'animal_type': 'dog',\n",
    "    'age': 2,\n",
    "    'breed': 'poodle',\n",
    "}\n",
    "\n",
    "my_turtoise = {\n",
    "    'name': 'Jerome',\n",
    "    'animal_type': 'tortoise',\n",
    "    'age': 8,\n",
    "    'breed': 'Sulcata',\n",
    "}\n",
    "\n",
    "my_bird = {\n",
    "    'name': 'Molly',\n",
    "    'animal_type': 'bird',\n",
    "    'age': 11,\n",
    "    'breed': 'Cockatiel',\n",
    "}\n",
    "\n",
    "pets = [my_dog, my_turtoise, my_bird]\n",
    "\n",
    "for pet in pets:\n",
    "    print(f\"\\n{pet['name'].title()}\")\n",
    "    print(f\" Animal Type: {pet['animal_type']}\")\n",
    "    print(f\" Age: {pet['age']}\")\n",
    "    print(f\" Breed: {pet['breed'].title()}\")\n"
   ]
  },
  {
   "cell_type": "code",
   "execution_count": 6,
   "id": "b1b175b9",
   "metadata": {},
   "outputs": [
    {
     "name": "stdout",
     "output_type": "stream",
     "text": [
      "Robert's favorite places are:\n",
      "Paris\n",
      "London\n",
      "Rome\n",
      "Jill's favorite places are:\n",
      "Chicago\n",
      "Miami\n",
      "New York\n",
      "Brian's favorite places are:\n",
      "Barcelona\n",
      "Santorini\n",
      "Punta Cana\n"
     ]
    }
   ],
   "source": [
    "# 6-9. Favorite Places: Make a dictionary called `favorite_places`. Think of\n",
    "# three names to use as keys in the dictionary, and store one to three favorite\n",
    "# places for each person. To make this exercise a bit more interesting, ask some\n",
    "# friends to name a few of their favorite places. Loop through the dictionary, \n",
    "# and print each person’s name and their favorite places.\n",
    "\n",
    "favorite_places = {\n",
    "    'Robert': ['Paris', 'London', 'Rome'],\n",
    "    'Jill': ['Chicago', 'Miami', 'New York'],\n",
    "    'Brian': ['Barcelona', 'Santorini', 'Punta Cana']\n",
    "}\n",
    "\n",
    "for person, places in favorite_places.items():\n",
    "    print(f\"{person.title()}'s favorite places are:\")\n",
    "    for place in places:\n",
    "        print(f\"{place.title()}\")"
   ]
  },
  {
   "cell_type": "code",
   "execution_count": null,
   "id": "96382ed4",
   "metadata": {},
   "outputs": [
    {
     "name": "stdout",
     "output_type": "stream",
     "text": [
      "\n",
      "Santiago\n",
      "Country: chile\n",
      "Population: 6310000\n",
      "Fact: santiago is the capital of chile\n",
      "\n",
      "New York City\n",
      "Country: united states\n",
      "Population: 8175000\n",
      "Fact: new york city is the largest city in the United States\n",
      "\n",
      "Austin\n",
      "Country: united states\n",
      "Population: 2000000\n",
      "Fact: austin is the capital of the Texas\n"
     ]
    }
   ],
   "source": [
    "# 6-11. Cities: Make a dictionary called `cities`. Use the names of three cities\n",
    "# as keys in your dictionary. Create a dictionary of information about each city\n",
    "# and include the country that the city is in, its approximate population, and\n",
    "# one fact about that city. The keys for each city’s dictionary should be \n",
    "# something like country, population, and fact. Print the name of each city and\n",
    "# all the information you have stored about it.\n",
    "\n",
    "cities = {\n",
    "    'santiago': {\n",
    "        'country': 'chile',\n",
    "        'population': 6_310_000,\n",
    "        'fact': 'santiago is the capital of chile',\n",
    "    },\n",
    "    'new york city': {\n",
    "        'country': 'united states',\n",
    "        'population': 8_175_000,\n",
    "        'fact': 'new york city is the largest city in the United States',\n",
    "    },\n",
    "    'austin': {\n",
    "        'country': 'united states',\n",
    "        'population': 2_000_000,\n",
    "        'fact': 'austin is the capital of the Texas',\n",
    "    }\n",
    "}\n",
    "\n",
    "for city, info in cities.items():\n",
    "    print(f\"\\n{city.title()}\")\n",
    "    for key, value in info.items():\n",
    "        print(f\"{key.title()}: {value}\")\n",
    "\n",
    "# 6-12. Extensions: We're now working with examples that are complex enough that\n",
    "# they can be extended in any number of ways. Use one of the example programs\n",
    "# from this chapter, and extend it by adding new keys and values, changing the\n",
    "# context of the program, or improving the formatting of the output\n",
    "\n",
    "\n",
    "    "
   ]
  }
 ],
 "metadata": {
  "kernelspec": {
   "display_name": "Python 3",
   "language": "python",
   "name": "python3"
  },
  "language_info": {
   "codemirror_mode": {
    "name": "ipython",
    "version": 3
   },
   "file_extension": ".py",
   "mimetype": "text/x-python",
   "name": "python",
   "nbconvert_exporter": "python",
   "pygments_lexer": "ipython3",
   "version": "3.10.5"
  }
 },
 "nbformat": 4,
 "nbformat_minor": 5
}
