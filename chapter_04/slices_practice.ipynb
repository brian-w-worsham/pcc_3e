{
 "cells": [
  {
   "cell_type": "code",
   "execution_count": 2,
   "id": "d89e1224",
   "metadata": {},
   "outputs": [
    {
     "name": "stdout",
     "output_type": "stream",
     "text": [
      "[1, 3, 5, 7, 9, 11, 13, 15, 17, 19]\n",
      "The first three items in the list are: [1, 3, 5]\n",
      "Four items from the middle of the list are: [7, 9, 11, 13]\n",
      "The last three items in the list are: [15, 17, 19]\n"
     ]
    }
   ],
   "source": [
    "# 4-10. Slices: Using one of the programs you wrote in this chapter, add several\n",
    "# lines to the end of the program that do the following:\n",
    "odd_numbers = list(range(1, 20, 2))\n",
    "print(odd_numbers)\n",
    "# - Print the message 'The first three items in the list are:'. Then use a slice\n",
    "#   to print the first three items from that program's list.\n",
    "print(\"The first three items in the list are:\", odd_numbers[:3])\n",
    "# - Print the message 'Four items from the middle of the list are:'. Then use a\n",
    "#   slice to print four items from the middle of the list.\n",
    "print(\"Four items from the middle of the list are:\", odd_numbers[3:7])\n",
    "# - Print the message 'The last three items in the list are:'. Then use a slice\n",
    "#   to print the last three items in the list.\n",
    "print(\"The last three items in the list are:\", odd_numbers[-3:])\n"
   ]
  }
 ],
 "metadata": {
  "kernelspec": {
   "display_name": "Python 3",
   "language": "python",
   "name": "python3"
  },
  "language_info": {
   "codemirror_mode": {
    "name": "ipython",
    "version": 3
   },
   "file_extension": ".py",
   "mimetype": "text/x-python",
   "name": "python",
   "nbconvert_exporter": "python",
   "pygments_lexer": "ipython3",
   "version": "3.10.5"
  }
 },
 "nbformat": 4,
 "nbformat_minor": 5
}
