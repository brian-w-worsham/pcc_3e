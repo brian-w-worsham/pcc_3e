{
 "cells": [
  {
   "cell_type": "code",
   "execution_count": 3,
   "id": "3fd8c049",
   "metadata": {},
   "outputs": [
    {
     "name": "stdout",
     "output_type": "stream",
     "text": [
      "grilled chicken\n",
      "steak\n",
      "lasagna\n",
      "tacos\n",
      "sushi\n",
      "fried chicken\n",
      "sirloin steak\n",
      "lasagna\n",
      "tacos\n",
      "sushi\n"
     ]
    }
   ],
   "source": [
    "basic_foods = (\"grilled chicken\", \"steak\", \"lasagna\", \"tacos\", \"sushi\")\n",
    "\n",
    "for food in basic_foods:\n",
    "    print(food)\n",
    "\n",
    "# basic_foods[1] = \"fish and chips\"\n",
    "\n",
    "# for food in basic_foods:\n",
    "#     print(food)\n",
    "\n",
    "basic_foods = (\"fried chicken\", \"sirloin steak\", \"lasagna\", \"tacos\", \"sushi\")\n",
    "\n",
    "for food in basic_foods:\n",
    "    print(food)\n",
    "\n"
   ]
  }
 ],
 "metadata": {
  "kernelspec": {
   "display_name": "Python 3",
   "language": "python",
   "name": "python3"
  },
  "language_info": {
   "codemirror_mode": {
    "name": "ipython",
    "version": 3
   },
   "file_extension": ".py",
   "mimetype": "text/x-python",
   "name": "python",
   "nbconvert_exporter": "python",
   "pygments_lexer": "ipython3",
   "version": "3.10.5"
  }
 },
 "nbformat": 4,
 "nbformat_minor": 5
}
