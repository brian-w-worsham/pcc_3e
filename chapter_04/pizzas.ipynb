{
 "cells": [
  {
   "cell_type": "code",
   "execution_count": 1,
   "id": "4d725d89",
   "metadata": {},
   "outputs": [
    {
     "name": "stdout",
     "output_type": "stream",
     "text": [
      "Peperoni\n",
      "I like peperoni pizza.\n",
      "Margherita\n",
      "I like margherita pizza.\n",
      "Meat Lovers\n",
      "I like meat lovers pizza.\n",
      "\n",
      "I really love pizza!\n"
     ]
    }
   ],
   "source": [
    "pizzas = [\"peperoni\", \"margherita\", \"meat lovers\"]\n",
    "\n",
    "for pizza in pizzas:\n",
    "    print(pizza.title())\n",
    "    print(f\"I like {pizza} pizza.\")\n",
    "print(\"\\nI really love pizza!\")"
   ]
  },
  {
   "cell_type": "code",
   "execution_count": 2,
   "id": "cb5149eb",
   "metadata": {},
   "outputs": [
    {
     "name": "stdout",
     "output_type": "stream",
     "text": [
      "My favorite pizzas are:\n",
      "peperoni\n",
      "margherita\n",
      "meat lovers\n",
      "hawaiian\n",
      "\n",
      "My friend's favorite pizzas are:\n",
      "peperoni\n",
      "margherita\n",
      "meat lovers\n",
      "cheese\n"
     ]
    }
   ],
   "source": [
    "friends_pizzas = pizzas[:]\n",
    "pizzas.append(\"hawaiian\")\n",
    "friends_pizzas.append(\"cheese\")\n",
    "\n",
    "print(\"My favorite pizzas are:\")\n",
    "for pizza in pizzas:\n",
    "    print(pizza)\n",
    "\n",
    "print(\"\\nMy friend's favorite pizzas are:\")\n",
    "for pizza in friends_pizzas:\n",
    "    print(pizza)"
   ]
  },
  {
   "cell_type": "code",
   "execution_count": 5,
   "id": "f2e91300",
   "metadata": {},
   "outputs": [
    {
     "name": "stdout",
     "output_type": "stream",
     "text": [
      "whales\n",
      "whales are amazing animals!\n",
      "bears\n",
      "bears are amazing animals!\n",
      "elephants\n",
      "elephants are amazing animals!\n",
      "I love large animals!\n"
     ]
    }
   ],
   "source": [
    "large_animals = [\"whales\", \"bears\", \"elephants\"]\n",
    "for animal in large_animals:\n",
    "    print(animal)\n",
    "    print(f\"{animal} are amazing animals!\")\n",
    "print(\"I love large animals!\")"
   ]
  }
 ],
 "metadata": {
  "kernelspec": {
   "display_name": "Python 3",
   "language": "python",
   "name": "python3"
  },
  "language_info": {
   "codemirror_mode": {
    "name": "ipython",
    "version": 3
   },
   "file_extension": ".py",
   "mimetype": "text/x-python",
   "name": "python",
   "nbconvert_exporter": "python",
   "pygments_lexer": "ipython3",
   "version": "3.10.5"
  }
 },
 "nbformat": 4,
 "nbformat_minor": 5
}
