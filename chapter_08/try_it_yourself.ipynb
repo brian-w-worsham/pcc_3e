{
 "cells": [
  {
   "cell_type": "code",
   "execution_count": 1,
   "id": "c706f8ec",
   "metadata": {},
   "outputs": [
    {
     "name": "stdout",
     "output_type": "stream",
     "text": [
      "Hello!\n",
      "How are you?\n",
      "Goodbye!\n"
     ]
    }
   ],
   "source": [
    "# 8-9. Messages: Make a list containing a series of short text messages.\n",
    "# Pass the list to a function called show_messages(), which prints each text \n",
    "# message.\n",
    "\n",
    "def show_messages(messages):\n",
    "    for message in messages:\n",
    "        print(message)\n",
    "\n",
    "messages = [\"Hello!\", \"How are you?\", \"Goodbye!\"]\n",
    "show_messages(messages)\n"
   ]
  },
  {
   "cell_type": "code",
   "execution_count": 2,
   "id": "3d6a3752",
   "metadata": {},
   "outputs": [
    {
     "name": "stdout",
     "output_type": "stream",
     "text": [
      "Hello!\n",
      "How are you?\n",
      "Goodbye!\n",
      "Messages:\n",
      "[]\n",
      "\n",
      "Sent Messages:\n",
      "['Hello!', 'How are you?', 'Goodbye!']\n"
     ]
    }
   ],
   "source": [
    "#8-10. Sending Messages: Start with a copy of your program from Exercise 8-9.\n",
    "# Write a function called send_messages() that prints each text message and\n",
    "# moves each message to a new list called sent_messages as it’s printed. After \n",
    "# calling the function, print both of your lists to make sure the messages were \n",
    "# moved correctly.\n",
    "def send_messages(messages, sent_messages):\n",
    "    while messages:\n",
    "        message = messages.pop(0)\n",
    "        print(message)\n",
    "        sent_messages.append(message)\n",
    "\n",
    "messages = [\"Hello!\", \"How are you?\", \"Goodbye!\"]\n",
    "sent_messages = []\n",
    "send_messages(messages, sent_messages)\n",
    "\n",
    "print(\"Messages:\")\n",
    "print(messages)\n",
    "print(\"\\nSent Messages:\")\n",
    "print(sent_messages)\n"
   ]
  },
  {
   "cell_type": "code",
   "execution_count": 3,
   "id": "c0c5e2d9",
   "metadata": {},
   "outputs": [
    {
     "name": "stdout",
     "output_type": "stream",
     "text": [
      "Hello!\n",
      "How are you?\n",
      "Goodbye!\n",
      "Messages:\n",
      "['Hello!', 'How are you?', 'Goodbye!']\n",
      "\n",
      "Sent Messages:\n",
      "['Hello!', 'How are you?', 'Goodbye!']\n"
     ]
    }
   ],
   "source": [
    "# 8-11. Archived Messages: Start with your work from Exercise 8-10. Call the\n",
    "# send_messages() function with a copy of the list of messages. After calling \n",
    "# the function, print both of your lists to show that the original list has \n",
    "# retained its messages.\n",
    "\n",
    "messages = [\"Hello!\", \"How are you?\", \"Goodbye!\"]\n",
    "sent_messages = []\n",
    "send_messages(messages[:], sent_messages)\n",
    "\n",
    "print(\"Messages:\")\n",
    "print(messages)\n",
    "print(\"\\nSent Messages:\")\n",
    "print(sent_messages)\n"
   ]
  }
 ],
 "metadata": {
  "kernelspec": {
   "display_name": "Python 3",
   "language": "python",
   "name": "python3"
  },
  "language_info": {
   "codemirror_mode": {
    "name": "ipython",
    "version": 3
   },
   "file_extension": ".py",
   "mimetype": "text/x-python",
   "name": "python",
   "nbconvert_exporter": "python",
   "pygments_lexer": "ipython3",
   "version": "3.13.9"
  }
 },
 "nbformat": 4,
 "nbformat_minor": 5
}
