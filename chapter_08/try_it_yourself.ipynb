{
 "cells": [
  {
   "cell_type": "code",
   "execution_count": 2,
   "id": "a5e48669",
   "metadata": {},
   "outputs": [
    {
     "name": "stdout",
     "output_type": "stream",
     "text": [
      "I'm learning to store code in functions.\n"
     ]
    }
   ],
   "source": [
    "# 8-1. Message: Write a function called display_message() that prints one \n",
    "# sentence telling everyone what you are learning about in this chapter. Call \n",
    "# the function, and make sure the message displays correctly.\n",
    "\n",
    "def display_message():\n",
    "    \"\"\"Display a message about what I'm learning.\"\"\"\n",
    "    msg = \"I'm learning to store code in functions.\"\n",
    "    print(msg)\n",
    "\n",
    "display_message()\n"
   ]
  },
  {
   "cell_type": "code",
   "execution_count": 3,
   "id": "4e546441",
   "metadata": {},
   "outputs": [
    {
     "name": "stdout",
     "output_type": "stream",
     "text": [
      "One of my favorite books is Alice in Wonderland.\n"
     ]
    }
   ],
   "source": [
    "# 8-2. Favorite Book: Write a function called favorite_book() that accepts one \n",
    "# parameter, title. The function should print a message, such as One of my \n",
    "# favorite books is Alice in Wonderland. Call the function, making sure to \n",
    "# include a book title as an argument in the function call.\n",
    "\n",
    "def favorite_book(title):\n",
    "    \"\"\"Display a message about my favorite book.\"\"\"\n",
    "    msg = f\"One of my favorite books is {title}.\"\n",
    "    print(msg)\n",
    "\n",
    "favorite_book('Alice in Wonderland')\n"
   ]
  },
  {
   "cell_type": "code",
   "execution_count": 4,
   "id": "1554a155",
   "metadata": {},
   "outputs": [
    {
     "name": "stdout",
     "output_type": "stream",
     "text": [
      "\n",
      "I'm going to make a large t-shirt.\n",
      "It will say, \"I love Python!\"\n",
      "\n",
      "I'm going to make a medium t-shirt.\n",
      "It will say, \"Readability counts.\"\n"
     ]
    }
   ],
   "source": [
    "# 8-3. T-Shirt: Write a function called make_shirt() that accepts a size and the\n",
    "# text of a message that should be printed on the shirt. The function should \n",
    "# print a sentence summarizing the size of the shirt and the message printed on \n",
    "# it. Call the function once using positional arguments to make a shirt. Call \n",
    "# the function a second time using keyword arguments.\n",
    "\n",
    "def make_shirt(size, message):\n",
    "    \"\"\"Summarize the shirt that's going to be made.\"\"\"\n",
    "    print(f\"\\nI'm going to make a {size} t-shirt.\")\n",
    "    print(f'It will say, \"{message}\"')\n",
    "\n",
    "make_shirt('large', 'I love Python!')\n",
    "make_shirt(message=\"Readability counts.\", size='medium')\n"
   ]
  },
  {
   "cell_type": "code",
   "execution_count": 5,
   "id": "ba7f915f",
   "metadata": {},
   "outputs": [
    {
     "name": "stdout",
     "output_type": "stream",
     "text": [
      "\n",
      "I'm going to make a large t-shirt.\n",
      "It will say, \"I love Python!\"\n",
      "\n",
      "I'm going to make a medium t-shirt.\n",
      "It will say, \"I love Python!\"\n",
      "\n",
      "I'm going to make a small t-shirt.\n",
      "It will say, \"Readability counts.\"\n"
     ]
    }
   ],
   "source": [
    "# 8-4. Large Shirts: Modify the make_shirt() function so that shirts are large \n",
    "# by default with a message that reads \"I love Python\". Make a large shirt and a \n",
    "# medium shirt with the default message, and a shirt of any size with a \n",
    "# different message.\n",
    "\n",
    "def make_shirt(size='large', message='I love Python!'):\n",
    "    \"\"\"Summarize the shirt that's going to be made.\"\"\"\n",
    "    print(f\"\\nI'm going to make a {size} t-shirt.\")\n",
    "    print(f'It will say, \"{message}\"')\n",
    "\n",
    "make_shirt()\n",
    "make_shirt(size='medium')\n",
    "make_shirt('small', 'Readability counts.')\n"
   ]
  },
  {
   "cell_type": "code",
   "execution_count": null,
   "id": "e627b2d1",
   "metadata": {},
   "outputs": [],
   "source": [
    "# 8-5. Cities: Write a function called describe_city() that accepts the name of \n",
    "# a city and its country. The function should print a simple sentence, such as \n",
    "# \"Reykjavik is in Iceland\". Give the parameter for the country a default value. \n",
    "# Call your function for three different cities, at least one of which is not in \n",
    "# the default country.\n",
    "\n"
   ]
  }
 ],
 "metadata": {
  "kernelspec": {
   "display_name": "Python 3",
   "language": "python",
   "name": "python3"
  },
  "language_info": {
   "codemirror_mode": {
    "name": "ipython",
    "version": 3
   },
   "file_extension": ".py",
   "mimetype": "text/x-python",
   "name": "python",
   "nbconvert_exporter": "python",
   "pygments_lexer": "ipython3",
   "version": "3.10.5"
  }
 },
 "nbformat": 4,
 "nbformat_minor": 5
}
{
 "cells": [
  {
   "cell_type": "code",
   "execution_count": 1,
   "id": "c706f8ec",
   "metadata": {},
   "outputs": [
    {
     "name": "stdout",
     "output_type": "stream",
     "text": [
      "Hello!\n",
      "How are you?\n",
      "Goodbye!\n"
     ]
    }
   ],
   "source": [
    "# 8-9. Messages: Make a list containing a series of short text messages.\n",
    "# Pass the list to a function called show_messages(), which prints each text \n",
    "# message.\n",
    "\n",
    "def show_messages(messages):\n",
    "    for message in messages:\n",
    "        print(message)\n",
    "\n",
    "messages = [\"Hello!\", \"How are you?\", \"Goodbye!\"]\n",
    "show_messages(messages)\n"
   ]
  },
  {
   "cell_type": "code",
   "execution_count": 2,
   "id": "3d6a3752",
   "metadata": {},
   "outputs": [
    {
     "name": "stdout",
     "output_type": "stream",
     "text": [
      "Hello!\n",
      "How are you?\n",
      "Goodbye!\n",
      "Messages:\n",
      "[]\n",
      "\n",
      "Sent Messages:\n",
      "['Hello!', 'How are you?', 'Goodbye!']\n"
     ]
    }
   ],
   "source": [
    "#8-10. Sending Messages: Start with a copy of your program from Exercise 8-9.\n",
    "# Write a function called send_messages() that prints each text message and\n",
    "# moves each message to a new list called sent_messages as it’s printed. After \n",
    "# calling the function, print both of your lists to make sure the messages were \n",
    "# moved correctly.\n",
    "def send_messages(messages, sent_messages):\n",
    "    while messages:\n",
    "        message = messages.pop(0)\n",
    "        print(message)\n",
    "        sent_messages.append(message)\n",
    "\n",
    "messages = [\"Hello!\", \"How are you?\", \"Goodbye!\"]\n",
    "sent_messages = []\n",
    "send_messages(messages, sent_messages)\n",
    "\n",
    "print(\"Messages:\")\n",
    "print(messages)\n",
    "print(\"\\nSent Messages:\")\n",
    "print(sent_messages)\n"
   ]
  },
  {
   "cell_type": "code",
   "execution_count": 3,
   "id": "c0c5e2d9",
   "metadata": {},
   "outputs": [
    {
     "name": "stdout",
     "output_type": "stream",
     "text": [
      "Hello!\n",
      "How are you?\n",
      "Goodbye!\n",
      "Messages:\n",
      "['Hello!', 'How are you?', 'Goodbye!']\n",
      "\n",
      "Sent Messages:\n",
      "['Hello!', 'How are you?', 'Goodbye!']\n"
     ]
    }
   ],
   "source": [
    "# 8-11. Archived Messages: Start with your work from Exercise 8-10. Call the\n",
    "# send_messages() function with a copy of the list of messages. After calling \n",
    "# the function, print both of your lists to show that the original list has \n",
    "# retained its messages.\n",
    "\n",
    "messages = [\"Hello!\", \"How are you?\", \"Goodbye!\"]\n",
    "sent_messages = []\n",
    "send_messages(messages[:], sent_messages)\n",
    "\n",
    "print(\"Messages:\")\n",
    "print(messages)\n",
    "print(\"\\nSent Messages:\")\n",
    "print(sent_messages)\n"
   ]
  },
  {
   "cell_type": "code",
   "execution_count": 4,
   "id": "9fe70f81",
   "metadata": {},
   "outputs": [
    {
     "name": "stdout",
     "output_type": "stream",
     "text": [
      "You have ordered a sandwich with the following items:\n",
      "- ham\n",
      "- cheese\n",
      "- lettuce\n",
      "\n",
      "You have ordered a sandwich with the following items:\n",
      "- turkey\n",
      "- bacon\n",
      "- avocado\n",
      "- tomato\n",
      "\n",
      "You have ordered a sandwich with the following items:\n",
      "- peanut butter\n",
      "- jelly\n",
      "\n"
     ]
    }
   ],
   "source": [
    "# 8-12. Sandwiches: Write a function that accepts a list of items a person\n",
    "# wants on a sandwich. The function should have one parameter that collects as\n",
    "# many items as the function call provides, and it should print a summary of\n",
    "# the sandwich that is being ordered. Call the function three times, using a\n",
    "# different number of arguments each time.\n",
    "def make_sandwich(*items):\n",
    "    print(\"You have ordered a sandwich with the following items:\")\n",
    "    for item in items:\n",
    "        print(f\"- {item}\")\n",
    "    print()\n",
    "\n",
    "make_sandwich(\"ham\", \"cheese\", \"lettuce\")\n",
    "make_sandwich(\"turkey\", \"bacon\", \"avocado\", \"tomato\")\n",
    "make_sandwich(\"peanut butter\", \"jelly\")\n"
   ]
  },
  {
   "cell_type": "code",
   "execution_count": 5,
   "id": "aa2dcd08",
   "metadata": {},
   "outputs": [
    {
     "name": "stdout",
     "output_type": "stream",
     "text": [
      "{'first_name': 'Brian', 'last_name': 'Worsham', 'location': 'Texas', 'field': 'Computer Science', 'hobby': 'Gaming'}\n"
     ]
    }
   ],
   "source": [
    "# 8-13. User Profile: Start with a copy of user_profile.py from page 153. Build\n",
    "# a profile of yourself by calling build_profile(), using your first and last\n",
    "# name and three other key-value pairs that describe you.\n",
    "\n",
    "def build_profile(first, last, **user_info):\n",
    "    profile = {}\n",
    "    profile['first_name'] = first\n",
    "    profile['last_name'] = last\n",
    "    for key, value in user_info.items():\n",
    "        profile[key] = value\n",
    "    return profile\n",
    "\n",
    "user_profile = build_profile('Brian', 'Worsham',\n",
    "                             location='Texas',\n",
    "                             field='Computer Science',\n",
    "                             hobby='Gaming')\n",
    "print(user_profile)\n"
   ]
  },
  {
   "cell_type": "code",
   "execution_count": 6,
   "id": "9ca5d6b0",
   "metadata": {},
   "outputs": [
    {
     "name": "stdout",
     "output_type": "stream",
     "text": [
      "{'manufacturer': 'subaru', 'model': 'outback', 'color': 'blue', 'tow_package': True}\n"
     ]
    }
   ],
   "source": [
    "#8.14. Cars: Write a function that stores information about a car in a \n",
    "# dictionary. The function should always receive a manufacturer and a model name. It\n",
    "# should then accept an arbitrary number of keyword arguments. Call the function\n",
    "# with the required information and two other name-value pairs, such as a color\n",
    "# or an optional feature. Your function should work for a call like this one:\n",
    "# car = make_car('subaru', 'outback', color='blue', tow_package=True). Print the\n",
    "# dictionary that’s returned to make sure all the information was stored\n",
    "# correctly.\n",
    "def make_car(manufacturer, model, **options):\n",
    "    car_info = {\n",
    "        'manufacturer': manufacturer,\n",
    "        'model': model\n",
    "    }\n",
    "    for key, value in options.items():\n",
    "        car_info[key] = value\n",
    "    return car_info\n",
    "car = make_car('subaru', 'outback', color='blue', tow_package=True)\n",
    "print(car)\n"
   ]
  }
 ],
 "metadata": {
  "kernelspec": {
   "display_name": "Python 3",
   "language": "python",
   "name": "python3"
  },
  "language_info": {
   "codemirror_mode": {
    "name": "ipython",
    "version": 3
   },
   "file_extension": ".py",
   "mimetype": "text/x-python",
   "name": "python",
   "nbconvert_exporter": "python",
   "pygments_lexer": "ipython3",
   "version": "3.13.9"
  }
 },
 "nbformat": 4,
 "nbformat_minor": 5
}
