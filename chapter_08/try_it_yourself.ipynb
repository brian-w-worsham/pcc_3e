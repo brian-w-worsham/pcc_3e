{
 "cells": [
  {
   "cell_type": "code",
   "execution_count": 2,
   "id": "a5e48669",
   "metadata": {},
   "outputs": [
    {
     "name": "stdout",
     "output_type": "stream",
     "text": [
      "I'm learning to store code in functions.\n"
     ]
    }
   ],
   "source": [
    "# 8-1. Message: Write a function called display_message() that prints one \n",
    "# sentence telling everyone what you are learning about in this chapter. Call \n",
    "# the function, and make sure the message displays correctly.\n",
    "\n",
    "def display_message():\n",
    "    \"\"\"Display a message about what I'm learning.\"\"\"\n",
    "    msg = \"I'm learning to store code in functions.\"\n",
    "    print(msg)\n",
    "\n",
    "display_message()\n"
   ]
  },
  {
   "cell_type": "code",
   "execution_count": 3,
   "id": "4e546441",
   "metadata": {},
   "outputs": [
    {
     "name": "stdout",
     "output_type": "stream",
     "text": [
      "One of my favorite books is Alice in Wonderland.\n"
     ]
    }
   ],
   "source": [
    "# 8-2. Favorite Book: Write a function called favorite_book() that accepts one \n",
    "# parameter, title. The function should print a message, such as One of my \n",
    "# favorite books is Alice in Wonderland. Call the function, making sure to \n",
    "# include a book title as an argument in the function call.\n",
    "\n",
    "def favorite_book(title):\n",
    "    \"\"\"Display a message about my favorite book.\"\"\"\n",
    "    msg = f\"One of my favorite books is {title}.\"\n",
    "    print(msg)\n",
    "\n",
    "favorite_book('Alice in Wonderland')\n"
   ]
  },
  {
   "cell_type": "code",
   "execution_count": 4,
   "id": "1554a155",
   "metadata": {},
   "outputs": [
    {
     "name": "stdout",
     "output_type": "stream",
     "text": [
      "\n",
      "I'm going to make a large t-shirt.\n",
      "It will say, \"I love Python!\"\n",
      "\n",
      "I'm going to make a medium t-shirt.\n",
      "It will say, \"Readability counts.\"\n"
     ]
    }
   ],
   "source": [
    "# 8-3. T-Shirt: Write a function called make_shirt() that accepts a size and the\n",
    "# text of a message that should be printed on the shirt. The function should \n",
    "# print a sentence summarizing the size of the shirt and the message printed on \n",
    "# it. Call the function once using positional arguments to make a shirt. Call \n",
    "# the function a second time using keyword arguments.\n",
    "\n",
    "def make_shirt(size, message):\n",
    "    \"\"\"Summarize the shirt that's going to be made.\"\"\"\n",
    "    print(f\"\\nI'm going to make a {size} t-shirt.\")\n",
    "    print(f'It will say, \"{message}\"')\n",
    "\n",
    "make_shirt('large', 'I love Python!')\n",
    "make_shirt(message=\"Readability counts.\", size='medium')\n"
   ]
  },
  {
   "cell_type": "code",
   "execution_count": 5,
   "id": "ba7f915f",
   "metadata": {},
   "outputs": [
    {
     "name": "stdout",
     "output_type": "stream",
     "text": [
      "\n",
      "I'm going to make a large t-shirt.\n",
      "It will say, \"I love Python!\"\n",
      "\n",
      "I'm going to make a medium t-shirt.\n",
      "It will say, \"I love Python!\"\n",
      "\n",
      "I'm going to make a small t-shirt.\n",
      "It will say, \"Readability counts.\"\n"
     ]
    }
   ],
   "source": [
    "# 8-4. Large Shirts: Modify the make_shirt() function so that shirts are large \n",
    "# by default with a message that reads \"I love Python\". Make a large shirt and a \n",
    "# medium shirt with the default message, and a shirt of any size with a \n",
    "# different message.\n",
    "\n",
    "def make_shirt(size='large', message='I love Python!'):\n",
    "    \"\"\"Summarize the shirt that's going to be made.\"\"\"\n",
    "    print(f\"\\nI'm going to make a {size} t-shirt.\")\n",
    "    print(f'It will say, \"{message}\"')\n",
    "\n",
    "make_shirt()\n",
    "make_shirt(size='medium')\n",
    "make_shirt('small', 'Readability counts.')\n"
   ]
  },
  {
   "cell_type": "code",
   "execution_count": null,
   "id": "e627b2d1",
   "metadata": {},
   "outputs": [],
   "source": [
    "# 8-5. Cities: Write a function called describe_city() that accepts the name of \n",
    "# a city and its country. The function should print a simple sentence, such as \n",
    "# \"Reykjavik is in Iceland\". Give the parameter for the country a default value. \n",
    "# Call your function for three different cities, at least one of which is not in \n",
    "# the default country.\n",
    "\n"
   ]
  }
 ],
 "metadata": {
  "kernelspec": {
   "display_name": "Python 3",
   "language": "python",
   "name": "python3"
  },
  "language_info": {
   "codemirror_mode": {
    "name": "ipython",
    "version": 3
   },
   "file_extension": ".py",
   "mimetype": "text/x-python",
   "name": "python",
   "nbconvert_exporter": "python",
   "pygments_lexer": "ipython3",
   "version": "3.10.5"
  }
 },
 "nbformat": 4,
 "nbformat_minor": 5
}
