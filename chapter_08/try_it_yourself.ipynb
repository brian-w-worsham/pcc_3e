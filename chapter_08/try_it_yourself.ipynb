{
 "cells": [
  {
   "cell_type": "code",
   "execution_count": 1,
   "id": "c706f8ec",
   "metadata": {},
   "outputs": [
    {
     "name": "stdout",
     "output_type": "stream",
     "text": [
      "Hello!\n",
      "How are you?\n",
      "Goodbye!\n"
     ]
    }
   ],
   "source": [
    "# 8-9. Messages: Make a list containing a series of short text messages.\n",
    "# Pass the list to a function called show_messages(), which prints each text \n",
    "# message.\n",
    "\n",
    "def show_messages(messages):\n",
    "    for message in messages:\n",
    "        print(message)\n",
    "\n",
    "messages = [\"Hello!\", \"How are you?\", \"Goodbye!\"]\n",
    "show_messages(messages)\n"
   ]
  },
  {
   "cell_type": "code",
   "execution_count": 2,
   "id": "3d6a3752",
   "metadata": {},
   "outputs": [
    {
     "name": "stdout",
     "output_type": "stream",
     "text": [
      "Hello!\n",
      "How are you?\n",
      "Goodbye!\n",
      "Messages:\n",
      "[]\n",
      "\n",
      "Sent Messages:\n",
      "['Hello!', 'How are you?', 'Goodbye!']\n"
     ]
    }
   ],
   "source": [
    "#8-10. Sending Messages: Start with a copy of your program from Exercise 8-9.\n",
    "# Write a function called send_messages() that prints each text message and\n",
    "# moves each message to a new list called sent_messages as it’s printed. After \n",
    "# calling the function, print both of your lists to make sure the messages were \n",
    "# moved correctly.\n",
    "def send_messages(messages, sent_messages):\n",
    "    while messages:\n",
    "        message = messages.pop(0)\n",
    "        print(message)\n",
    "        sent_messages.append(message)\n",
    "\n",
    "messages = [\"Hello!\", \"How are you?\", \"Goodbye!\"]\n",
    "sent_messages = []\n",
    "send_messages(messages, sent_messages)\n",
    "\n",
    "print(\"Messages:\")\n",
    "print(messages)\n",
    "print(\"\\nSent Messages:\")\n",
    "print(sent_messages)\n"
   ]
  },
  {
   "cell_type": "code",
   "execution_count": 3,
   "id": "c0c5e2d9",
   "metadata": {},
   "outputs": [
    {
     "name": "stdout",
     "output_type": "stream",
     "text": [
      "Hello!\n",
      "How are you?\n",
      "Goodbye!\n",
      "Messages:\n",
      "['Hello!', 'How are you?', 'Goodbye!']\n",
      "\n",
      "Sent Messages:\n",
      "['Hello!', 'How are you?', 'Goodbye!']\n"
     ]
    }
   ],
   "source": [
    "# 8-11. Archived Messages: Start with your work from Exercise 8-10. Call the\n",
    "# send_messages() function with a copy of the list of messages. After calling \n",
    "# the function, print both of your lists to show that the original list has \n",
    "# retained its messages.\n",
    "\n",
    "messages = [\"Hello!\", \"How are you?\", \"Goodbye!\"]\n",
    "sent_messages = []\n",
    "send_messages(messages[:], sent_messages)\n",
    "\n",
    "print(\"Messages:\")\n",
    "print(messages)\n",
    "print(\"\\nSent Messages:\")\n",
    "print(sent_messages)\n"
   ]
  },
  {
   "cell_type": "code",
   "execution_count": 4,
   "id": "9fe70f81",
   "metadata": {},
   "outputs": [
    {
     "name": "stdout",
     "output_type": "stream",
     "text": [
      "You have ordered a sandwich with the following items:\n",
      "- ham\n",
      "- cheese\n",
      "- lettuce\n",
      "\n",
      "You have ordered a sandwich with the following items:\n",
      "- turkey\n",
      "- bacon\n",
      "- avocado\n",
      "- tomato\n",
      "\n",
      "You have ordered a sandwich with the following items:\n",
      "- peanut butter\n",
      "- jelly\n",
      "\n"
     ]
    }
   ],
   "source": [
    "# 8-12. Sandwiches: Write a function that accepts a list of items a person\n",
    "# wants on a sandwich. The function should have one parameter that collects as\n",
    "# many items as the function call provides, and it should print a summary of\n",
    "# the sandwich that is being ordered. Call the function three times, using a\n",
    "# different number of arguments each time.\n",
    "def make_sandwich(*items):\n",
    "    print(\"You have ordered a sandwich with the following items:\")\n",
    "    for item in items:\n",
    "        print(f\"- {item}\")\n",
    "    print()\n",
    "\n",
    "make_sandwich(\"ham\", \"cheese\", \"lettuce\")\n",
    "make_sandwich(\"turkey\", \"bacon\", \"avocado\", \"tomato\")\n",
    "make_sandwich(\"peanut butter\", \"jelly\")\n"
   ]
  },
  {
   "cell_type": "code",
   "execution_count": 5,
   "id": "aa2dcd08",
   "metadata": {},
   "outputs": [
    {
     "name": "stdout",
     "output_type": "stream",
     "text": [
      "{'first_name': 'Brian', 'last_name': 'Worsham', 'location': 'Texas', 'field': 'Computer Science', 'hobby': 'Gaming'}\n"
     ]
    }
   ],
   "source": [
    "# 8-13. User Profile: Start with a copy of user_profile.py from page 153. Build\n",
    "# a profile of yourself by calling build_profile(), using your first and last\n",
    "# name and three other key-value pairs that describe you.\n",
    "\n",
    "def build_profile(first, last, **user_info):\n",
    "    profile = {}\n",
    "    profile['first_name'] = first\n",
    "    profile['last_name'] = last\n",
    "    for key, value in user_info.items():\n",
    "        profile[key] = value\n",
    "    return profile\n",
    "\n",
    "user_profile = build_profile('Brian', 'Worsham',\n",
    "                             location='Texas',\n",
    "                             field='Computer Science',\n",
    "                             hobby='Gaming')\n",
    "print(user_profile)\n"
   ]
  },
  {
   "cell_type": "code",
   "execution_count": 6,
   "id": "9ca5d6b0",
   "metadata": {},
   "outputs": [
    {
     "name": "stdout",
     "output_type": "stream",
     "text": [
      "{'manufacturer': 'subaru', 'model': 'outback', 'color': 'blue', 'tow_package': True}\n"
     ]
    }
   ],
   "source": [
    "#8.14. Cars: Write a function that stores information about a car in a \n",
    "# dictionary. The function should always receive a manufacturer and a model name. It\n",
    "# should then accept an arbitrary number of keyword arguments. Call the function\n",
    "# with the required information and two other name-value pairs, such as a color\n",
    "# or an optional feature. Your function should work for a call like this one:\n",
    "# car = make_car('subaru', 'outback', color='blue', tow_package=True). Print the\n",
    "# dictionary that’s returned to make sure all the information was stored\n",
    "# correctly.\n",
    "def make_car(manufacturer, model, **options):\n",
    "    car_info = {\n",
    "        'manufacturer': manufacturer,\n",
    "        'model': model\n",
    "    }\n",
    "    for key, value in options.items():\n",
    "        car_info[key] = value\n",
    "    return car_info\n",
    "car = make_car('subaru', 'outback', color='blue', tow_package=True)\n",
    "print(car)\n"
   ]
  }
 ],
 "metadata": {
  "kernelspec": {
   "display_name": "Python 3",
   "language": "python",
   "name": "python3"
  },
  "language_info": {
   "codemirror_mode": {
    "name": "ipython",
    "version": 3
   },
   "file_extension": ".py",
   "mimetype": "text/x-python",
   "name": "python",
   "nbconvert_exporter": "python",
   "pygments_lexer": "ipython3",
   "version": "3.13.9"
  }
 },
 "nbformat": 4,
 "nbformat_minor": 5
}
