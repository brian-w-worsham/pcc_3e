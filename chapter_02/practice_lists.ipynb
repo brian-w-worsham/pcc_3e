{
 "cells": [
  {
   "cell_type": "code",
   "execution_count": 11,
   "id": "3d9c8684",
   "metadata": {},
   "outputs": [
    {
     "name": "stdout",
     "output_type": "stream",
     "text": [
      "David\n",
      "Steve\n",
      "Jerred\n"
     ]
    }
   ],
   "source": [
    "friends = [\"David\", \"Steve\", \"Jerred\"]\n",
    "print(friends[0])\n",
    "print(friends[1])\n",
    "print(friends[2])\n"
   ]
  },
  {
   "cell_type": "code",
   "execution_count": 12,
   "id": "8612dcd4",
   "metadata": {},
   "outputs": [
    {
     "name": "stdout",
     "output_type": "stream",
     "text": [
      "Hello, David!\n",
      "Hello, Steve!\n",
      "Hello, Jerred!\n"
     ]
    }
   ],
   "source": [
    "message = f\"Hello, {friends[0]}!\"\n",
    "print(message)\n",
    "message = f\"Hello, {friends[1]}!\"\n",
    "print(message)\n",
    "message = f\"Hello, {friends[2]}!\"\n",
    "print(message)\n"
   ]
  },
  {
   "cell_type": "code",
   "execution_count": 13,
   "id": "92e1d288",
   "metadata": {},
   "outputs": [
    {
     "name": "stdout",
     "output_type": "stream",
     "text": [
      "['honda', 'yamaha', 'suzuki']\n",
      "My first motorcycle was a Honda.\n",
      "My first motorcycle was a Yamaha.\n",
      "My first motorcycle was a Suzuki.\n"
     ]
    }
   ],
   "source": [
    "motorcycles = [\"honda\", \"yamaha\", \"suzuki\"]\n",
    "print(motorcycles)\n",
    "motorcyclesMessage = f\"My first motorcycle was a {motorcycles[0].title()}.\"\n",
    "print(motorcyclesMessage)\n",
    "motorcyclesMessage = f\"My first motorcycle was a {motorcycles[1].title()}.\"\n",
    "print(motorcyclesMessage)\n",
    "motorcyclesMessage = f\"My first motorcycle was a {motorcycles[2].title()}.\"\n",
    "print(motorcyclesMessage)\n"
   ]
  },
  {
   "cell_type": "code",
   "execution_count": 14,
   "id": "8aff607e",
   "metadata": {},
   "outputs": [
    {
     "name": "stdout",
     "output_type": "stream",
     "text": [
      "I would like to invite Alice to dinner.\n",
      "I would like to invite Bob to dinner.\n",
      "I would like to invite Charlie to dinner.\n",
      "Charlie can't make it to dinner.\n",
      "I would like to invite Alice to dinner.\n",
      "I would like to invite Bob to dinner.\n",
      "I would like to invite David to dinner.\n",
      "I found a bigger dinner table!\n",
      "I would like to invite Eve to dinner.\n",
      "I would like to invite Alice to dinner.\n",
      "I would like to invite Frank to dinner.\n",
      "I would like to invite Bob to dinner.\n",
      "I would like to invite David to dinner.\n",
      "I would like to invite Grace to dinner.\n",
      "Sorry, I can only invite two people to dinner.\n",
      "Sorry, Grace, I can't invite you to dinner.\n",
      "Sorry, David, I can't invite you to dinner.\n",
      "Sorry, Bob, I can't invite you to dinner.\n",
      "Sorry, Frank, I can't invite you to dinner.\n",
      "Eve, you're still invited to dinner.\n",
      "Alice, you're still invited to dinner.\n",
      "[]\n"
     ]
    }
   ],
   "source": [
    "dinner_guests = [\"Alice\", \"Bob\", \"Charlie\"]\n",
    "print(f\"I would like to invite {dinner_guests[0]} to dinner.\")\n",
    "print(f\"I would like to invite {dinner_guests[1]} to dinner.\")\n",
    "print(f\"I would like to invite {dinner_guests[2]} to dinner.\")\n",
    "print(\"Charlie can't make it to dinner.\")\n",
    "dinner_guests[2] = \"David\"\n",
    "print(f\"I would like to invite {dinner_guests[0]} to dinner.\")\n",
    "print(f\"I would like to invite {dinner_guests[1]} to dinner.\")\n",
    "print(f\"I would like to invite {dinner_guests[2]} to dinner.\")\n",
    "print(\"I found a bigger dinner table!\")\n",
    "dinner_guests.insert(0, \"Eve\")\n",
    "dinner_guests.insert(2, \"Frank\")\n",
    "dinner_guests.append(\"Grace\")\n",
    "print(f\"I would like to invite {dinner_guests[0]} to dinner.\")\n",
    "print(f\"I would like to invite {dinner_guests[1]} to dinner.\")\n",
    "print(f\"I would like to invite {dinner_guests[2]} to dinner.\")\n",
    "print(f\"I would like to invite {dinner_guests[3]} to dinner.\")\n",
    "print(f\"I would like to invite {dinner_guests[4]} to dinner.\")\n",
    "print(f\"I would like to invite {dinner_guests[5]} to dinner.\")\n",
    "print(\"Sorry, I can only invite two people to dinner.\")\n",
    "removed_guest = dinner_guests.pop()\n",
    "print(f\"Sorry, {removed_guest}, I can't invite you to dinner.\")\n",
    "removed_guest = dinner_guests.pop()\n",
    "print(f\"Sorry, {removed_guest}, I can't invite you to dinner.\")\n",
    "removed_guest = dinner_guests.pop()\n",
    "print(f\"Sorry, {removed_guest}, I can't invite you to dinner.\")\n",
    "removed_guest = dinner_guests.pop()\n",
    "print(f\"Sorry, {removed_guest}, I can't invite you to dinner.\")\n",
    "print(f\"{dinner_guests[0]}, you're still invited to dinner.\")\n",
    "print(f\"{dinner_guests[1]}, you're still invited to dinner.\")\n",
    "del dinner_guests[1]\n",
    "del dinner_guests[0]\n",
    "print(dinner_guests)\n",
    "\n"
   ]
  },
  {
   "cell_type": "code",
   "execution_count": null,
   "id": "d8720cf4",
   "metadata": {},
   "outputs": [
    {
     "name": "stdout",
     "output_type": "stream",
     "text": [
      "['Japan', 'Italy', 'New Zealand', 'Canada', 'Switzerland']\n",
      "['Canada', 'Italy', 'Japan', 'New Zealand', 'Switzerland']\n",
      "['Japan', 'Italy', 'New Zealand', 'Canada', 'Switzerland']\n",
      "['Switzerland', 'New Zealand', 'Japan', 'Italy', 'Canada']\n",
      "['Japan', 'Italy', 'New Zealand', 'Canada', 'Switzerland']\n",
      "['Switzerland', 'Canada', 'New Zealand', 'Italy', 'Japan']\n",
      "['Japan', 'Italy', 'New Zealand', 'Canada', 'Switzerland']\n",
      "['Canada', 'Italy', 'Japan', 'New Zealand', 'Switzerland']\n",
      "['Switzerland', 'New Zealand', 'Japan', 'Italy', 'Canada']\n"
     ]
    }
   ],
   "source": [
    "# 3-8. Seeing the World: Think of at least five places in the world you’d like \n",
    "# to visit.\n",
    "# Store the locations in a list. Make sure the list is not in alphabetical \n",
    "# order.\n",
    "places = [\"Japan\", \"Italy\", \"New Zealand\", \"Canada\", \"Switzerland\"]\n",
    "# Print your list in its original order. Don’t worry about printing the list \n",
    "# neatly, just print it as a raw Python list.\n",
    "print(places)\n",
    "# Use sorted() to print your list in alphabetical order without modifying the \n",
    "# actual list.\n",
    "print(sorted(places))\n",
    "# Show that your list is still in its original order by printing it.\n",
    "print(places)\n",
    "# Use sorted() to print your list in reverse alphabetical order without changing \n",
    "# the order of the original list.\n",
    "print(sorted(places, reverse=True))\n",
    "# Show that your list is still in its original order by printing it again.\n",
    "print(places)\n",
    "# Use reverse() to change the order of your list. Print the list to show that \n",
    "# its order has changed.\n",
    "places.reverse()\n",
    "print(places)\n",
    "# Use reverse() to change the order of your list again. Print the list to show \n",
    "# it’s back to its original order.\n",
    "places.reverse()\n",
    "print(places)\n",
    "# Use sort() to change your list so it’s stored in alphabetical order. Print the \n",
    "# list to show that its order has been changed.\n",
    "places.sort()\n",
    "print(places)\n",
    "# Use sort() to change your list so it’s stored in reverse alphabetical order. \n",
    "# Print the list to show that its order has changed.\n",
    "places.sort(reverse=True)\n",
    "print(places)\n"
   ]
  },
  {
   "cell_type": "code",
   "execution_count": null,
   "id": "de9600e2",
   "metadata": {},
   "outputs": [
    {
     "name": "stdout",
     "output_type": "stream",
     "text": [
      "Number of guests invited: 3\n"
     ]
    }
   ],
   "source": [
    "# 3-9. Dinner Guests: Working with one of the programs from Exercises 3-4 \n",
    "# through 3-7 (page 42), use len() to print a message indicating the number of \n",
    "# people you are inviting to dinner.\n",
    "dinner_guests = [\"Alice\", \"Bob\", \"Charlie\"]\n",
    "print(f\"Number of guests invited: {len(dinner_guests)}\")"
   ]
  },
  {
   "cell_type": "code",
   "execution_count": 19,
   "id": "dbb93e8e",
   "metadata": {},
   "outputs": [
    {
     "name": "stdout",
     "output_type": "stream",
     "text": [
      "['Python', 'JavaScript', 'C++', 'Java', 'Ruby']\n",
      "['C++', 'Java', 'JavaScript', 'Python', 'Ruby']\n",
      "['Ruby', 'Python', 'JavaScript', 'Java', 'C++']\n",
      "['Ruby', 'Java', 'C++', 'JavaScript', 'Python']\n",
      "5\n",
      "['C++', 'Java', 'JavaScript', 'Python', 'Ruby']\n",
      "['Ruby', 'Python', 'JavaScript', 'Java', 'C++']\n",
      "['Ruby', 'Java', 'C++', 'JavaScript', 'Python', 'Go']\n",
      "['Ruby', 'Java', 'Swift', 'C++', 'JavaScript', 'Python', 'Go']\n",
      "Removed language: Go\n",
      "['Ruby', 'Java', 'Swift', 'C++', 'JavaScript', 'Python']\n",
      "['Ruby', 'Swift', 'C++', 'JavaScript', 'Python']\n"
     ]
    }
   ],
   "source": [
    "# 3-10. Every Function: Think of something you could store in a list. For \n",
    "# example, you could make a list of mountains, rivers, countries, cities, \n",
    "# languages, or anything else you’d like. Write a program that creates a list \n",
    "# containing these items and then uses each function introduced in this chapter \n",
    "# at least once.\n",
    "# (You don’t have to use all the items in the list for each function.)\n",
    "languages = [\"Python\", \"JavaScript\", \"C++\", \"Java\", \"Ruby\"]\n",
    "print(languages)  # Original list\n",
    "print(sorted(languages))  # Sorted list\n",
    "print(sorted(languages, reverse=True))  # Reverse sorted list\n",
    "languages.reverse()  # Reversed list\n",
    "print(languages)  # Reversed list\n",
    "print(len(languages))  # Length of list\n",
    "sortedLanguages = sorted(languages)  # Sorted list stored in a new variable\n",
    "print(sortedLanguages)  # Print the sorted list\n",
    "reversedLanguages = sorted(languages, reverse=True)  # Reverse sorted list stored in a new variable\n",
    "print(reversedLanguages)  # Print the reverse sorted list\n",
    "languages.append(\"Go\")  # Add an item\n",
    "print(languages)  # List after appending\n",
    "languages.insert(2, \"Swift\")  # Insert an item\n",
    "print(languages)  # List after inserting\n",
    "removed_language = languages.pop()  # Remove the last item\n",
    "print(f\"Removed language: {removed_language}\")\n",
    "print(languages)  # List after popping\n",
    "languages.remove(\"Java\")  # Remove a specific item\n",
    "print(languages)  # List after removing Java\n",
    "\n"
   ]
  }
 ],
 "metadata": {
  "kernelspec": {
   "display_name": "Python 3",
   "language": "python",
   "name": "python3"
  },
  "language_info": {
   "codemirror_mode": {
    "name": "ipython",
    "version": 3
   },
   "file_extension": ".py",
   "mimetype": "text/x-python",
   "name": "python",
   "nbconvert_exporter": "python",
   "pygments_lexer": "ipython3",
   "version": "3.13.8"
  }
 },
 "nbformat": 4,
 "nbformat_minor": 5
}
