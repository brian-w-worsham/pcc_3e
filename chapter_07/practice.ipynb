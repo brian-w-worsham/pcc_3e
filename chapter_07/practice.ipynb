{
 "cells": [
  {
   "cell_type": "code",
   "execution_count": 1,
   "id": "28b86309",
   "metadata": {},
   "outputs": [
    {
     "name": "stdout",
     "output_type": "stream",
     "text": [
      "Let me see if I can find you a Ford!\n"
     ]
    }
   ],
   "source": [
    "# 7-1. Rental Car: Write a program that asks the user what kind of rental car \n",
    "# they would like. Print a message about the car, such as “Let me see if I can \n",
    "# find you a Subaru.”\n",
    "\n",
    "desired_car = input(\"What kind of car would you like? \")\n",
    "print(f'Let me see if I can find you a {desired_car}!')"
   ]
  },
  {
   "cell_type": "code",
   "execution_count": 3,
   "id": "0464e7f6",
   "metadata": {},
   "outputs": [
    {
     "name": "stdout",
     "output_type": "stream",
     "text": [
      "Your table is ready.\n"
     ]
    }
   ],
   "source": [
    "# 7-2. Restaurant Seating: Write a program that asks the user how many people\n",
    "# are in their dinner group. If the answer is more than eight, print a\n",
    "# message saying they'll have to wait for a table. Otherwise, report that their\n",
    "# table is ready.\n",
    "\n",
    "qty_guests = int(input(\"How many people are in your dinner group?\"))\n",
    "\n",
    "if qty_guests > 8:\n",
    "    print(\"You will have to wait for a table.\")\n",
    "else:\n",
    "    print(\"Your table is ready.\")\n"
   ]
  },
  {
   "cell_type": "code",
   "execution_count": 6,
   "id": "1655e8e0",
   "metadata": {},
   "outputs": [
    {
     "name": "stdout",
     "output_type": "stream",
     "text": [
      "1 is not a multiple of 10\n"
     ]
    }
   ],
   "source": [
    "# 7-3. Multiples of Ten. Ask the user for a number, and then report whether the\n",
    "# number is a multiple of 10 or not.\n",
    "\n",
    "number = int(input(\"Give me a number, please: \"))\n",
    "\n",
    "if number % 10 == 0:\n",
    "    print(f\"{number} is a multiple of 10\")\n",
    "else:\n",
    "    print(f'{number} is not a multiple of 10')"
   ]
  }
 ],
 "metadata": {
  "kernelspec": {
   "display_name": "Python 3",
   "language": "python",
   "name": "python3"
  },
  "language_info": {
   "codemirror_mode": {
    "name": "ipython",
    "version": 3
   },
   "file_extension": ".py",
   "mimetype": "text/x-python",
   "name": "python",
   "nbconvert_exporter": "python",
   "pygments_lexer": "ipython3",
   "version": "3.10.5"
  }
 },
 "nbformat": 4,
 "nbformat_minor": 5
}
