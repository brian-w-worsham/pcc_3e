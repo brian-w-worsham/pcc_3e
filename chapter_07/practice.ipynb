{
 "cells": [
  {
   "cell_type": "code",
   "execution_count": 1,
   "id": "28b86309",
   "metadata": {},
   "outputs": [
    {
     "name": "stdout",
     "output_type": "stream",
     "text": [
      "Let me see if I can find you a Ford!\n"
     ]
    }
   ],
   "source": [
    "# 7-1. Rental Car: Write a program that asks the user what kind of rental car \n",
    "# they would like. Print a message about the car, such as “Let me see if I can \n",
    "# find you a Subaru.”\n",
    "\n",
    "desired_car = input(\"What kind of car would you like? \")\n",
    "print(f'Let me see if I can find you a {desired_car}!')"
   ]
  },
  {
   "cell_type": "code",
   "execution_count": 3,
   "id": "0464e7f6",
   "metadata": {},
   "outputs": [
    {
     "name": "stdout",
     "output_type": "stream",
     "text": [
      "Your table is ready.\n"
     ]
    }
   ],
   "source": [
    "# 7-2. Restaurant Seating: Write a program that asks the user how many people\n",
    "# are in their dinner group. If the answer is more than eight, print a\n",
    "# message saying they'll have to wait for a table. Otherwise, report that their\n",
    "# table is ready.\n",
    "\n",
    "qty_guests = int(input(\"How many people are in your dinner group?\"))\n",
    "\n",
    "if qty_guests > 8:\n",
    "    print(\"You will have to wait for a table.\")\n",
    "else:\n",
    "    print(\"Your table is ready.\")\n"
   ]
  },
  {
   "cell_type": "code",
   "execution_count": 6,
   "id": "1655e8e0",
   "metadata": {},
   "outputs": [
    {
     "name": "stdout",
     "output_type": "stream",
     "text": [
      "1 is not a multiple of 10\n"
     ]
    }
   ],
   "source": [
    "# 7-3. Multiples of Ten. Ask the user for a number, and then report whether the\n",
    "# number is a multiple of 10 or not.\n",
    "\n",
    "number = int(input(\"Give me a number, please: \"))\n",
    "\n",
    "if number % 10 == 0:\n",
    "    print(f\"{number} is a multiple of 10\")\n",
    "else:\n",
    "    print(f'{number} is not a multiple of 10')"
   ]
  },
  {
   "cell_type": "code",
   "execution_count": 1,
   "id": "46fd78d6",
   "metadata": {},
   "outputs": [
    {
     "name": "stdout",
     "output_type": "stream",
     "text": [
      "Adding pepperoni to your pizza.\n",
      "Adding onions to your pizza.\n",
      "Adding olives to your pizza.\n",
      "Adding bacon to your pizza.\n",
      "Adding jalapeno to your pizza.\n",
      "Your pizza will have the following toppings:\n",
      "- pepperoni\n",
      "- onions\n",
      "- olives\n",
      "- bacon\n",
      "- jalapeno\n"
     ]
    }
   ],
   "source": [
    "# 7-4. Pizza Toppings: Write a loop that prompts the user to enter a series of \n",
    "# pizza toppings until they enter a 'quit' value. As they enter each topping,\n",
    "# print a message saying you'll add that topping to their pizza.\n",
    "\n",
    "toppings = []\n",
    "while True:\n",
    "    topping = input(\"Enter a pizza topping (or 'quit' to finish): \")\n",
    "    if topping.lower() == 'quit':\n",
    "        break\n",
    "    toppings.append(topping)\n",
    "    print(f\"Adding {topping} to your pizza.\")\n",
    "\n",
    "print(\"Your pizza will have the following toppings:\")\n",
    "for topping in toppings:\n",
    "    print(f\"- {topping}\")"
   ]
  },
  {
   "cell_type": "code",
   "execution_count": 2,
   "id": "70b54601",
   "metadata": {},
   "outputs": [
    {
     "name": "stdout",
     "output_type": "stream",
     "text": [
      "The cost of your movie ticket is: $0\n",
      "The cost of your movie ticket is: $10\n",
      "The cost of your movie ticket is: $15\n"
     ]
    }
   ],
   "source": [
    "# 7-5. Movie Tickets: A movie theater charges different ticket prices depending\n",
    "# on a person’s age. If a person is under the age of 3, the ticket is free; if\n",
    "# they are between 3 and 12, the ticket is $10; and if they are over age 12, the\n",
    "# ticket is $15. Write a loop in which you ask users their age, and then tell\n",
    "# them the cost of their movie ticket.\n",
    "\n",
    "while True:\n",
    "    age_input = input(\"Please enter your age (or 'quit' to exit): \")\n",
    "    if age_input.lower() == 'quit':\n",
    "        break\n",
    "    age = int(age_input)\n",
    "\n",
    "    if age < 3:\n",
    "        price = 0\n",
    "    elif 3 <= age <= 12:\n",
    "        price = 10\n",
    "    else:\n",
    "        price = 15\n",
    "\n",
    "    print(f\"The cost of your movie ticket is: ${price}\")"
   ]
  },
  {
   "cell_type": "code",
   "execution_count": null,
   "id": "0c99767d",
   "metadata": {},
   "outputs": [],
   "source": [
    "# 7-6. Three Exits: Write different versions of either Exercise 7-4 or Exercise \n",
    "# 7-5 that do each of the following at least once:\n",
    "# • Use a conditional test in the while statement to stop the loop.\n",
    "# • Use an active variable to control how long the loop runs.\n",
    "# • Use a break statement to exit the loop when the user enters a 'quit' value.\n",
    "\n",
    "# Version 1: Conditional test in the while statement\n",
    "toppings = []\n",
    "while True:\n",
    "    topping = input(\"Enter a pizza topping (or 'quit' to finish): \")\n",
    "    if topping.lower() == 'quit':\n",
    "        break\n",
    "    toppings.append(topping)\n",
    "    print(f\"Adding {topping} to your pizza.\")\n",
    "\n",
    "print(\"Your pizza will have the following toppings:\")\n",
    "for topping in toppings:\n",
    "    print(f\"- {topping}\")\n",
    "\n",
    "# Version 2: Active variable to control loop duration\n",
    "max_toppings = 5\n",
    "toppings = []\n",
    "while len(toppings) < max_toppings:\n",
    "    topping = input(\"Enter a pizza topping (or 'quit' to finish): \")\n",
    "    if topping.lower() == 'quit':\n",
    "        break\n",
    "    toppings.append(topping)\n",
    "    print(f\"Adding {topping} to your pizza.\")\n",
    "\n",
    "print(\"Your pizza will have the following toppings:\")\n",
    "for topping in toppings:\n",
    "    print(f\"- {topping}\")\n",
    "\n",
    "# Version 3: Break statement for 'quit' value\n",
    "toppings = []\n",
    "while True:\n",
    "    topping = input(\"Enter a pizza topping (or 'quit' to finish): \")\n",
    "    if topping.lower() == 'quit':\n",
    "        break\n",
    "    toppings.append(topping)\n",
    "    print(f\"Adding {topping} to your pizza.\")\n",
    "\n",
    "print(\"Your pizza will have the following toppings:\")\n",
    "for topping in toppings:\n",
    "    print(f\"- {topping}\")"
   ]
  },
  {
   "cell_type": "code",
   "execution_count": null,
   "id": "533e4300",
   "metadata": {},
   "outputs": [],
   "source": [
    "# 7-7. Infinity: Write a loop that never ends, and run it. (To end the loop,\n",
    "# press CTRL-C or close the window displaying the output.)\n",
    "while True:\n",
    "    print(\"This loop will run forever. Press CTRL-C to stop it.\")"
   ]
  }
 ],
 "metadata": {
  "kernelspec": {
   "display_name": "Python 3",
   "language": "python",
   "name": "python3"
  },
  "language_info": {
   "codemirror_mode": {
    "name": "ipython",
    "version": 3
   },
   "file_extension": ".py",
   "mimetype": "text/x-python",
   "name": "python",
   "nbconvert_exporter": "python",
   "pygments_lexer": "ipython3",
   "version": "3.10.5"
  }
 },
 "nbformat": 4,
 "nbformat_minor": 5
}
