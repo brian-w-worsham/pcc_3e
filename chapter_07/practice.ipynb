{
 "cells": [
  {
   "cell_type": "code",
   "execution_count": 1,
   "id": "28b86309",
   "metadata": {},
   "outputs": [
    {
     "name": "stdout",
     "output_type": "stream",
     "text": [
      "Let me see if I can find you a Ford!\n"
     ]
    }
   ],
   "source": [
    "# 7-1. Rental Car: Write a program that asks the user what kind of rental car \n",
    "# they would like. Print a message about the car, such as “Let me see if I can \n",
    "# find you a Subaru.”\n",
    "\n",
    "desired_car = input(\"What kind of car would you like? \")\n",
    "print(f'Let me see if I can find you a {desired_car}!')"
   ]
  },
  {
   "cell_type": "code",
   "execution_count": 3,
   "id": "0464e7f6",
   "metadata": {},
   "outputs": [
    {
     "name": "stdout",
     "output_type": "stream",
     "text": [
      "Your table is ready.\n"
     ]
    }
   ],
   "source": [
    "# 7-2. Restaurant Seating: Write a program that asks the user how many people\n",
    "# are in their dinner group. If the answer is more than eight, print a\n",
    "# message saying they'll have to wait for a table. Otherwise, report that their\n",
    "# table is ready.\n",
    "\n",
    "qty_guests = int(input(\"How many people are in your dinner group?\"))\n",
    "\n",
    "if qty_guests > 8:\n",
    "    print(\"You will have to wait for a table.\")\n",
    "else:\n",
    "    print(\"Your table is ready.\")\n"
   ]
  },
  {
   "cell_type": "code",
   "execution_count": 6,
   "id": "1655e8e0",
   "metadata": {},
   "outputs": [
    {
     "name": "stdout",
     "output_type": "stream",
     "text": [
      "1 is not a multiple of 10\n"
     ]
    }
   ],
   "source": [
    "# 7-3. Multiples of Ten. Ask the user for a number, and then report whether the\n",
    "# number is a multiple of 10 or not.\n",
    "\n",
    "number = int(input(\"Give me a number, please: \"))\n",
    "\n",
    "if number % 10 == 0:\n",
    "    print(f\"{number} is a multiple of 10\")\n",
    "else:\n",
    "    print(f'{number} is not a multiple of 10')"
   ]
  },
  {
   "cell_type": "code",
   "execution_count": null,
   "id": "a19b582b",
   "metadata": {},
   "outputs": [
    {
     "name": "stdout",
     "output_type": "stream",
     "text": [
      "I made your buffalo chicken sandwhich\n",
      "I made your philly cheesesteak\n",
      "I made your rueben sandwhich\n",
      "I made your balonga sandwhich\n",
      "I made your tuna sandwhich\n",
      "I made your turkey sandwhich\n",
      "I made your pastrami sandwhich\n",
      "I made your ham sandwhich\n",
      "The buffalo chicken sandwhich was made.\n",
      "The philly cheesesteak was made.\n",
      "The rueben sandwhich was made.\n",
      "The balonga sandwhich was made.\n",
      "The tuna sandwhich was made.\n",
      "The turkey sandwhich was made.\n",
      "The pastrami sandwhich was made.\n",
      "The ham sandwhich was made.\n"
     ]
    }
   ],
   "source": [
    "# 7-8. Deli. Make a list called sandwich_orders and fill it with the names of\n",
    "# various sandwiches. Then make an empty list called finished_sandwiches. Loop\n",
    "# through the list of sandwich orders and print a message for each order, such\n",
    "# as I made your tuna sandwhich. As each sandwhich is made, move it to the list\n",
    "# of finished sandwhiches. After all the sandwhiches have been made, print a\n",
    "# message listing each sandwhich that was made.\n",
    "\n",
    "sandwhich_orders = ['ham sandwhich', 'pastrami sandwhich', 'turkey sandwhich', 'tuna sandwhich', 'balonga sandwhich', 'rueben sandwhich', 'philly cheesesteak', 'buffalo chicken sandwhich']\n",
    "finished_sandwhiches = []\n",
    "\n",
    "while sandwhich_orders:\n",
    "    sandwhich = sandwhich_orders.pop()\n",
    "    print(f'I made your {sandwhich}')\n",
    "    finished_sandwhiches.append(sandwhich)\n",
    "\n",
    "for samich in finished_sandwhiches:\n",
    "    print(f'The {samich} was made.')\n"
   ]
  },
  {
   "cell_type": "code",
   "execution_count": 2,
   "id": "191578ea",
   "metadata": {},
   "outputs": [
    {
     "name": "stdout",
     "output_type": "stream",
     "text": [
      "The deli has run out of Pastrami\n",
      "I made your buffalo chicken sandwhich\n",
      "I made your philly cheesesteak\n",
      "I made your rueben sandwhich\n",
      "I made your balonga sandwhich\n",
      "I made your tuna sandwhich\n",
      "I made your turkey sandwhich\n",
      "I made your ham sandwhich\n",
      "The buffalo chicken sandwhich was made.\n",
      "The philly cheesesteak was made.\n",
      "The rueben sandwhich was made.\n",
      "The balonga sandwhich was made.\n",
      "The tuna sandwhich was made.\n",
      "The turkey sandwhich was made.\n",
      "The ham sandwhich was made.\n"
     ]
    }
   ],
   "source": [
    "# 7-9. No Pastrami. Using the list sandwich_orders from Exercise 7-8, make sure\n",
    "# the sandwich 'pastrami' appears in the list at least three times. Add code\n",
    "# near the beginning of your program to print a message saying the deli has run\n",
    "# out of pastrami, and then use a while loop to remove all occurrences of \n",
    "# 'pastrami' from sandwhich_orders. Make sure no pastrami sandwhiches end up in\n",
    "# finished_sandwhiches\n",
    "\n",
    "sandwhich_orders = ['ham sandwhich', 'pastrami sandwhich', 'turkey sandwhich', 'tuna sandwhich', 'balonga sandwhich', 'rueben sandwhich', 'pastrami sandwhich', 'philly cheesesteak', 'buffalo chicken sandwhich', 'pastrami sandwhich']\n",
    "finished_sandwhiches = []\n",
    "\n",
    "print('The deli has run out of Pastrami')\n",
    "\n",
    "while 'pastrami sandwhich' in sandwhich_orders:\n",
    "    sandwhich_orders.remove('pastrami sandwhich')\n",
    "\n",
    "while sandwhich_orders:\n",
    "    sandwhich = sandwhich_orders.pop()\n",
    "    print(f'I made your {sandwhich}')\n",
    "    finished_sandwhiches.append(sandwhich)\n",
    "\n",
    "for samich in finished_sandwhiches:\n",
    "    print(f'The {samich} was made.')\n"
   ]
  },
  {
   "cell_type": "code",
   "execution_count": 3,
   "id": "ab1117cc",
   "metadata": {},
   "outputs": [
    {
     "name": "stdout",
     "output_type": "stream",
     "text": [
      "These are the reults of the Dream Vacation Survey:\n",
      "Brian's dream vacation location is Santonini\n",
      "Tatiana's dream vacation location is Volgodonsk\n"
     ]
    }
   ],
   "source": [
    "# 7-10. Dream Vacation. Write a program that polls users about their dream \n",
    "# vacation. Write a prompt similar to If you could visit one place in the world,\n",
    "# where would you go? Include a block of code that prints the results of the \n",
    "# poll.\n",
    "\n",
    "poll_active = True\n",
    "responses = {}\n",
    "\n",
    "while poll_active:\n",
    "    name = input(\"What is your name?\")\n",
    "    response = input(\"If you could visit one place in the world, where would you go?\")\n",
    "\n",
    "    responses[name] = response\n",
    "\n",
    "    keep_going = input(\"Do we have any more resondents? (yes/no)\")\n",
    "\n",
    "    if(keep_going == 'no'):\n",
    "        poll_active = False\n",
    "\n",
    "print('These are the reults of the Dream Vacation Survey:')\n",
    "\n",
    "for name, response in responses.items():\n",
    "    print(f\"{name}'s dream vacation location is {response}\")\n"
   ]
  }
 ],
 "metadata": {
  "kernelspec": {
   "display_name": "Python 3",
   "language": "python",
   "name": "python3"
  },
  "language_info": {
   "codemirror_mode": {
    "name": "ipython",
    "version": 3
   },
   "file_extension": ".py",
   "mimetype": "text/x-python",
   "name": "python",
   "nbconvert_exporter": "python",
   "pygments_lexer": "ipython3",
   "version": "3.10.5"
  }
 },
 "nbformat": 4,
 "nbformat_minor": 5
}
